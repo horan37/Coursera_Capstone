{
 "cells": [
  {
   "cell_type": "markdown",
   "metadata": {},
   "source": [
    "# Capstone Project - The Battle of the Neighborhoods (Week 1)\n",
    "### Applied Data Science Capstone by IBM/Coursera"
   ]
  },
  {
   "cell_type": "markdown",
   "metadata": {},
   "source": [
    "## Table of contents\n",
    "* [Introduction: Business Problem](#introduction)\n",
    "* [Data](#data)"
   ]
  },
  {
   "cell_type": "markdown",
   "metadata": {},
   "source": [
    "## Introduction: Business Problem <a name=\"introduction\"></a>"
   ]
  },
  {
   "attachments": {},
   "cell_type": "markdown",
   "metadata": {},
   "source": [
    "Approximately 6 million people visit the National Parks in the state of Utah every year.  The number of visitors increased 17% between 2017 and 2018 from 5.6 million visitors to 6.6 million visitors.  Of all the National Parks in Utah, Zion National Park is the most popular with 4.3 million visitors in 2018.  **Zion National Park** is loacated in **Washington County** in Utah which is in the southwest corner of the state.\n",
    "\n",
    "According to Chefspencil.com, Mexican Cuisine is the most popular ethnic cuisine in 27 of the 50 United States. (54%)\n",
    "https://www.chefspencil.com/most-popular-ethnic-cuisines-in-america/\n",
    "![alt text](Images/cuisine-state-map-us.png \"US Map\")\n",
    "\n",
    "The goal of this project is two-fold.  The first goal is to find the best location to open a new **Mexican restaurant** in **Washington County, Utah.**\n",
    "\n",
    "We will use our data science powers to generate a few most promissing neighborhoods based on this criteria. Advantages of each area will then be clearly expressed so that best possible final location can be chosen by stakeholders."
   ]
  },
  {
   "cell_type": "markdown",
   "metadata": {},
   "source": [
    "## Data <a name=\"data\"></a>"
   ]
  },
  {
   "cell_type": "markdown",
   "metadata": {},
   "source": [
    "Based on definition of our problem, factors that will influence our decision are:\n",
    "* number of existing restaurants in the neighborhood (any type of restaurant)\n",
    "* number of and distance to Mexican restaurants in the neighborhood, if any\n",
    "* distance of neighborhood from city center\n",
    "\n",
    "We aquired the list of all cities and zip codes with latitude and longitude from the website:\n",
    "https://www.unitedstateszipcodes.org/zip-code-database/\n",
    "\n",
    "To narrow down our area of focus, We used visitor statistics from a **State of Utah’s Travel and Tourism Industry** study performed by the Kem C. Gardner Policy Institute of the University of Utah.\n",
    "https://travel.utah.gov/wp-content/uploads/2019-TTtrifold-Updated.pdf\n",
    "\n",
    "The number of restaurants and their type and location in every neighborhood will be obtained using **Foursquare API**"
   ]
  },
  {
   "cell_type": "code",
   "execution_count": null,
   "metadata": {},
   "outputs": [],
   "source": []
  }
 ],
 "metadata": {
  "kernelspec": {
   "display_name": "Python 3",
   "language": "python",
   "name": "python3"
  },
  "language_info": {
   "codemirror_mode": {
    "name": "ipython",
    "version": 3
   },
   "file_extension": ".py",
   "mimetype": "text/x-python",
   "name": "python",
   "nbconvert_exporter": "python",
   "pygments_lexer": "ipython3",
   "version": "3.7.6"
  }
 },
 "nbformat": 4,
 "nbformat_minor": 4
}
